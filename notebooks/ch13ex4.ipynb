{
 "cells": [
  {
   "cell_type": "code",
   "execution_count": 1,
   "metadata": {
    "id": "7dbVtF-qCFDy"
   },
   "outputs": [],
   "source": [
    "import matplotlib.pyplot as plt\n",
    "import numpy as np"
   ]
  },
  {
   "cell_type": "code",
   "execution_count": 2,
   "metadata": {
    "id": "kXi3BEG3CLFn"
   },
   "outputs": [],
   "source": [
    "def p(x):\n",
    "  return x**5 - 2*x**4 - 3*x**3 + 3*x**2 - 2*x - 1\n",
    "\n",
    "def p_prime(x):\n",
    "  return 5*x**4 - 8*x**3 - 9*x**2 + 6*x - 2"
   ]
  },
  {
   "cell_type": "code",
   "execution_count": 3,
   "metadata": {
    "id": "e8qFcajNCci6"
   },
   "outputs": [],
   "source": [
    "def newton(f, f_prime, x0, tol=1e-6, max_iter=100):\n",
    "  x = x0\n",
    "  xx = []\n",
    "  for i in range(max_iter):\n",
    "    xx.append(x)\n",
    "    x_new = x - f(x) / f_prime(x)\n",
    "    if abs(x_new - x) < tol:\n",
    "      return xx\n",
    "    x = x_new\n",
    "\n",
    "  return xx"
   ]
  },
  {
   "cell_type": "code",
   "execution_count": 4,
   "metadata": {
    "colab": {
     "base_uri": "https://localhost:8080/"
    },
    "id": "SBM6gNKaCpEo",
    "outputId": "30418a70-f732-45da-cbc2-a46daf04e2c7"
   },
   "outputs": [
    {
     "data": {
      "text/plain": [
       "[0, -0.5, -0.3368421052631579, -0.31572844839628944, -0.31530116270327685]"
      ]
     },
     "execution_count": 4,
     "metadata": {},
     "output_type": "execute_result"
    }
   ],
   "source": [
    "newton(p, p_prime, 0)"
   ]
  }
 ],
 "metadata": {
  "colab": {
   "provenance": []
  },
  "kernelspec": {
   "display_name": ".venv",
   "language": "python",
   "name": "python3"
  },
  "language_info": {
   "codemirror_mode": {
    "name": "ipython",
    "version": 3
   },
   "file_extension": ".py",
   "mimetype": "text/x-python",
   "name": "python",
   "nbconvert_exporter": "python",
   "pygments_lexer": "ipython3",
   "version": "3.12.7"
  }
 },
 "nbformat": 4,
 "nbformat_minor": 0
}
